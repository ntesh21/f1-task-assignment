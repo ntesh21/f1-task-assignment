{
 "cells": [
  {
   "cell_type": "code",
   "execution_count": 1,
   "id": "1ca2c494",
   "metadata": {},
   "outputs": [],
   "source": [
    "#import the required modules\n",
    "\n",
    "\n",
    "import re\n",
    "from PIL import Image\n",
    "import cv2\n",
    "import pytesseract\n",
    "from pytesseract import pytesseract, Output\n",
    "import PIL\n",
    "from PIL import Image, ImageFilter\n",
    "from datetime import datetime\n",
    "from dateutil import parser\n",
    "import spacy\n",
    "import numpy as np\n",
    "import matplotlib.pyplot as plt\n",
    "%matplotlib inline"
   ]
  },
  {
   "cell_type": "markdown",
   "id": "eb4858d0",
   "metadata": {},
   "source": [
    "## Load the sample image"
   ]
  },
  {
   "cell_type": "code",
   "execution_count": 2,
   "id": "52e39518",
   "metadata": {},
   "outputs": [],
   "source": [
    "#Method to load the input image of the document\n",
    "#This method only loads the document in image fromat such as jpg, png, jpeg\n",
    "\n",
    "def load_image(img_path):\n",
    "    image = cv2.imread(img_path)\n",
    "    return image"
   ]
  },
  {
   "cell_type": "markdown",
   "id": "ef307d8f",
   "metadata": {},
   "source": [
    "## Preprocessing"
   ]
  },
  {
   "cell_type": "markdown",
   "id": "ca893b37",
   "metadata": {},
   "source": [
    "###  Apply Blur to smooth image"
   ]
  },
  {
   "cell_type": "code",
   "execution_count": 3,
   "id": "d38b8e4c",
   "metadata": {},
   "outputs": [],
   "source": [
    "def apply_smoothing(img):\n",
    "#     image= Image.fromarray(img.astype('uint8'))\n",
    "#     new_image = image.filter(ImageFilter.UnsharpMask(radius=100, percent=100))\n",
    "    new_image = cv2.blur(img, (3,3))\n",
    "    return new_image"
   ]
  },
  {
   "cell_type": "markdown",
   "id": "0a03ad44",
   "metadata": {},
   "source": [
    "### Convert to Grayscale"
   ]
  },
  {
   "cell_type": "code",
   "execution_count": 4,
   "id": "e5fb346e",
   "metadata": {},
   "outputs": [],
   "source": [
    "def convert_grayscale(img):\n",
    "    img = cv2.cvtColor(img,\n",
    "                   cv2.COLOR_BGR2GRAY)\n",
    "    return img"
   ]
  },
  {
   "cell_type": "markdown",
   "id": "962f1498",
   "metadata": {},
   "source": [
    "### Adjust the brightness and contrast \n"
   ]
  },
  {
   "cell_type": "code",
   "execution_count": 5,
   "id": "45b377f2",
   "metadata": {},
   "outputs": [],
   "source": [
    "def adjust_saturation(img):\n",
    "    alpha = 1.7 # Contrast control (1.0-3.0)\n",
    "    beta = 10 # Brightness control (0-100)\n",
    "    img = cv2.convertScaleAbs(img, alpha=alpha, beta=beta)\n",
    "    return img"
   ]
  },
  {
   "cell_type": "markdown",
   "id": "7f509584",
   "metadata": {},
   "source": [
    "### Apply Adaptive Threshold on image"
   ]
  },
  {
   "cell_type": "code",
   "execution_count": 6,
   "id": "8ef68795",
   "metadata": {},
   "outputs": [],
   "source": [
    "def apply_threshold(img):\n",
    "    img = cv2.adaptiveThreshold(img,255,\n",
    "          cv2.ADAPTIVE_THRESH_MEAN_C,\\\n",
    "          cv2.THRESH_BINARY,11,2)\n",
    "    return img"
   ]
  },
  {
   "cell_type": "markdown",
   "id": "d9e51581",
   "metadata": {},
   "source": [
    "### Combine preprocessing"
   ]
  },
  {
   "cell_type": "code",
   "execution_count": 7,
   "id": "8535c8aa",
   "metadata": {},
   "outputs": [],
   "source": [
    "#Method to combine all the above preprocessing methods and returns final preprocessed image for text extraction\n",
    "\n",
    "def combine_preprocessing(img):\n",
    "    img = convert_grayscale(img)\n",
    "    img = adjust_saturation(img)\n",
    "    img = apply_threshold(img)\n",
    "    img = apply_smoothing(img)\n",
    "    return img"
   ]
  },
  {
   "cell_type": "markdown",
   "id": "59d5180d",
   "metadata": {},
   "source": [
    "## Text Extraction from preprocessed image"
   ]
  },
  {
   "cell_type": "code",
   "execution_count": 8,
   "id": "8d9b4320",
   "metadata": {},
   "outputs": [],
   "source": [
    "#Method usese the pytesseract module to extract the text from preprocessed image\n",
    "\n",
    "def extract_text(img):\n",
    "    custom_config = r'--oem 3 --psm 6 '\n",
    "    text1 = pytesseract.image_to_string(img) # first method to convert the image to string by detecting text\n",
    "    text2 = pytesseract.image_to_string(img, config=custom_config)\n",
    "    final_text = text1 + text2\n",
    "#     text_list = list(set(text.split())\n",
    "#     final_text = ' '.join(text_list)\n",
    "    return final_text\n",
    "    \n",
    "    "
   ]
  },
  {
   "cell_type": "markdown",
   "id": "d8215c36",
   "metadata": {},
   "source": [
    "## Specific methods for lisence information extraction from the extracted text"
   ]
  },
  {
   "cell_type": "markdown",
   "id": "20a450b3",
   "metadata": {},
   "source": [
    "### Extract Citizenship Number"
   ]
  },
  {
   "cell_type": "code",
   "execution_count": 9,
   "id": "3281c3c1",
   "metadata": {},
   "outputs": [],
   "source": [
    "def extract_citizenship_no(text, text_list):\n",
    "#     try:\n",
    "    pattern1 = \"\\d{2}[.-]\\d{2}[.-]\\d{2}[.-]\\d{5}\"\n",
    "    match = re.findall(pattern1, text)\n",
    "    if match:\n",
    "        citizen_no = match[0]\n",
    "    else:\n",
    "        pattern2 = \"\\d+[/]\\d+\"\n",
    "        match = re.findall(pattern2, text)\n",
    "        if match:\n",
    "            citizen_no = match[0]\n",
    "        else:\n",
    "            for t in text_list:\n",
    "                if 'Citizen' in t: \n",
    "                    pattern3 = '\\d+'\n",
    "                    match = re.findall(pattern3, t)\n",
    "                    if match:\n",
    "                        citizen_no = match[0]\n",
    "                        break\n",
    "                else:\n",
    "                    citizen_no = None\n",
    "    return citizen_no"
   ]
  },
  {
   "cell_type": "markdown",
   "id": "bf9abf84",
   "metadata": {},
   "source": [
    "### Extract Lisence Number"
   ]
  },
  {
   "cell_type": "code",
   "execution_count": 10,
   "id": "23d2abed",
   "metadata": {},
   "outputs": [],
   "source": [
    "def extract_lic_no(text):\n",
    "    pattern1 = \"\\d{2}[.-]\\d{2}[.-]\\d{8}\"\n",
    "    match = re.findall(pattern1, text)\n",
    "    if match:\n",
    "        l_no = match[0]\n",
    "    else:\n",
    "        pattern2 = \"\\d{3}[.-]\\d{6}\"\n",
    "        match = re.findall(pattern2, text)\n",
    "        if match:\n",
    "            l_no = match[0]\n",
    "        else:\n",
    "            l_no = None\n",
    "    return l_no"
   ]
  },
  {
   "cell_type": "markdown",
   "id": "a07ee244",
   "metadata": {},
   "source": [
    "### Extract Phone Number"
   ]
  },
  {
   "cell_type": "code",
   "execution_count": 11,
   "id": "2ee84c71",
   "metadata": {},
   "outputs": [],
   "source": [
    "def extract_ph_no(text):\n",
    "    pattern1 = \"\\d{10}\"\n",
    "    match = re.findall(pattern1, text)\n",
    "    if match:\n",
    "        ph_no = match[0]\n",
    "    else:\n",
    "        pattern2 = \"\\d{9}\"\n",
    "        match = re.findall(pattern2, text)\n",
    "        if match:\n",
    "            ph_no = match[0]\n",
    "        else:\n",
    "            ph_no = None\n",
    "    return ph_no"
   ]
  },
  {
   "cell_type": "markdown",
   "id": "83fa96bf",
   "metadata": {},
   "source": [
    "### Extract Blood Group"
   ]
  },
  {
   "cell_type": "code",
   "execution_count": 12,
   "id": "abb79ceb",
   "metadata": {},
   "outputs": [],
   "source": [
    "def extract_bg(text, text_list):\n",
    "    pattern1 = \"(A|B|AB|O)(\\+|-)\"\n",
    "    match = re.findall(pattern1, text)\n",
    "    if match:\n",
    "        bg = match[0][0]+match[0][1]\n",
    "    else:\n",
    "        for t in text_list:\n",
    "            if 'BG' in t:\n",
    "                pattern2 = '(A|B|AB|O) '\n",
    "                match = re.findall(pattern2, t)\n",
    "                if match:\n",
    "                    bg = match[0]\n",
    "                    break\n",
    "            else:\n",
    "                bg = None         \n",
    "    return bg"
   ]
  },
  {
   "cell_type": "markdown",
   "id": "e5472c10",
   "metadata": {},
   "source": [
    "### Extract the name of the Lisence Holder"
   ]
  },
  {
   "cell_type": "code",
   "execution_count": 13,
   "id": "64cca9b5",
   "metadata": {},
   "outputs": [],
   "source": [
    "def extract_name(text, text_list):\n",
    "    for t in text_list:\n",
    "        if 'Name' in t:\n",
    "            pattern = '[A-Z]+|'\n",
    "            match = re.findall(pattern, t)\n",
    "            if match:\n",
    "                name_list = [m for m in match if len(m) > 2]\n",
    "#                 print('now', name_list)\n",
    "                if len(name_list)> 2:\n",
    "                    first_name = name_list[0]\n",
    "                    middle_name = name_list[1]\n",
    "                    last_name = ' '.join(name_list[2:])\n",
    "                elif len(name_list) == 2:\n",
    "                    first_name = name_list[0]\n",
    "                    middle_name = ''\n",
    "                    last_name = name_list[1]\n",
    "                else:\n",
    "                    first_name = name_list[0]\n",
    "                    middle_name = ''\n",
    "                    last_name = ''\n",
    "            break\n",
    "# #             else:\n",
    "# #                 first_name = ''\n",
    "# #                 middle_name = ''\n",
    "# #                 last_name = ''\n",
    "        else:\n",
    "            first_name = ''\n",
    "            middle_name = ''\n",
    "            last_name = ''\n",
    "\n",
    "\n",
    "    return first_name, middle_name, last_name"
   ]
  },
  {
   "cell_type": "markdown",
   "id": "1406e301",
   "metadata": {},
   "source": [
    "### Extract Address"
   ]
  },
  {
   "cell_type": "code",
   "execution_count": 14,
   "id": "e5a28a4c",
   "metadata": {},
   "outputs": [],
   "source": [
    "def extract_address(text, text_list):\n",
    "    for t in text_list:\n",
    "        if 'Address' in t:  \n",
    "            text_pos = text_list.index(t)\n",
    "            add = t.split(' ')\n",
    "            add = [re.sub(':', '', a) for a in add]\n",
    "            pos = add.index('Address')\n",
    "            add_list = add[pos+1:]\n",
    "            add_list = [add for add in add_list if len(add) > 1]\n",
    "            address = ' '.join(add_list)+' '+text_list[text_pos+1]\n",
    "            break\n",
    "        else:\n",
    "            address = None\n",
    "    return address"
   ]
  },
  {
   "cell_type": "markdown",
   "id": "1a8cc34c",
   "metadata": {},
   "source": [
    "### Extract Lisence Office"
   ]
  },
  {
   "cell_type": "code",
   "execution_count": 15,
   "id": "9333d52d",
   "metadata": {},
   "outputs": [],
   "source": [
    "def extract_lisence_office(text, text_list):\n",
    "    for t in text_list:\n",
    "        if 'Office' in t:\n",
    "            off = t.split(' ')\n",
    "            pos = off.index('Office')\n",
    "            off_list = off[pos+1:]\n",
    "            off_list = [off for off in off_list if len(off) > 1]\n",
    "            office = ' '.join(off_list)\n",
    "            break\n",
    "        else:\n",
    "            office = None\n",
    "    return office"
   ]
  },
  {
   "cell_type": "markdown",
   "id": "0a04e04a",
   "metadata": {},
   "source": [
    "### Extract Lisence Category"
   ]
  },
  {
   "cell_type": "code",
   "execution_count": 16,
   "id": "420a7ac3",
   "metadata": {},
   "outputs": [],
   "source": [
    "def extract_category(text, text_list):\n",
    "    try:\n",
    "        for t in text_list:\n",
    "            if 'Category' in t:\n",
    "                t_list = t.split()\n",
    "                t_list = [re.sub(':', '', tl) for tl in t_list]\n",
    "                cat_pos = t_list.index('Category')\n",
    "\n",
    "                t_list = t_list[cat_pos+1:]\n",
    "                cat_t = ' '.join(t_list)\n",
    "\n",
    "                pattern = '[A-Z][,.-][A-Z]|[A-Z]' \n",
    "                match = re.findall(pattern, cat_t)\n",
    "                cat = [m for m in match if m!= '']\n",
    "                category = ', '.join(cat)\n",
    "                break\n",
    "            else:\n",
    "                category = None\n",
    "    except: \n",
    "        category = None\n",
    "    return category"
   ]
  },
  {
   "cell_type": "markdown",
   "id": "1a686418",
   "metadata": {},
   "source": [
    "### Extract Date of Expiry"
   ]
  },
  {
   "cell_type": "code",
   "execution_count": 17,
   "id": "1272d3e0",
   "metadata": {},
   "outputs": [],
   "source": [
    "def extract_doe(text, text_list):\n",
    "    for t in text_list:\n",
    "        if \"D.O.E\" in t:\n",
    "            pattern1 = \"\\d{2}[.-]\\d{2}[.-]\\d{4}\"\n",
    "            match = re.findall(pattern1, t)\n",
    "            if match:\n",
    "                doe = match[0]\n",
    "                break\n",
    "        else:\n",
    "            doe = None\n",
    "        if doe == None:\n",
    "            pattern2 = \"\\d{2}[.-]\\d{2}[.-]\\d{4} \"\n",
    "            match = re.findall(pattern2, text)\n",
    "            if match:\n",
    "                for m in match:\n",
    "                    date_now = datetime.now()\n",
    "                    try:\n",
    "                        date = parser.parse(m)\n",
    "                    except:\n",
    "                        continue\n",
    "                    if date > date_now:\n",
    "                        doe = str(date)[:10]\n",
    "                        break\n",
    "            else:\n",
    "                doe = None\n",
    "                    \n",
    "    return doe"
   ]
  },
  {
   "cell_type": "markdown",
   "id": "4038a66a",
   "metadata": {},
   "source": [
    "### Extract Date of Birth"
   ]
  },
  {
   "cell_type": "code",
   "execution_count": 18,
   "id": "3ed8aa01",
   "metadata": {},
   "outputs": [],
   "source": [
    "from dateutil.relativedelta import relativedelta\n",
    "\n",
    "def get_date_difference(date1, date2):\n",
    "    difference = abs(relativedelta(date1, date2).years)\n",
    "    return difference\n",
    "\n",
    "\n",
    "def extract_dob(text, text_list):\n",
    "    for t in text_list:\n",
    "        if \"D.O.B\" in t:\n",
    "            pattern1 = \"\\d{2}[.-]\\d{2}[.-]\\d{4}\"\n",
    "            match = re.findall(pattern1, t)\n",
    "            if match:\n",
    "                dob = match[0]\n",
    "                break\n",
    "        else:\n",
    "            dob = None\n",
    "    if dob == None:\n",
    "        pattern2 = \"\\d{2}[.-]\\d{2}[.-]\\d{4}\"\n",
    "        match = re.findall(pattern2, text)\n",
    "        match = list(set(match))\n",
    "        if match:\n",
    "            for m in match:\n",
    "                date_now = datetime.now()\n",
    "                try:\n",
    "                    date = parser.parse(m)\n",
    "                except:\n",
    "                    continue\n",
    "                difference = get_date_difference(date, date_now) \n",
    "                if difference > 18 and difference < 100:\n",
    "                    dob = str(date)[:10]\n",
    "                    break\n",
    "        else:\n",
    "            dob = None\n",
    "\n",
    "                    \n",
    "    return dob"
   ]
  },
  {
   "cell_type": "markdown",
   "id": "ee31eb7d",
   "metadata": {},
   "source": [
    "### Extract Date of Issue"
   ]
  },
  {
   "cell_type": "code",
   "execution_count": 19,
   "id": "c3d517f8",
   "metadata": {},
   "outputs": [],
   "source": [
    "def extract_doi(text, text_list):\n",
    "    for t in text_list:\n",
    "        if \"D.O.I\" in t:\n",
    "            pattern1 = \"\\d{2}[.-]\\d{2}[.-]\\d{4}\"\n",
    "            match = re.findall(pattern1, t)\n",
    "            if match:\n",
    "                doi = match[0]\n",
    "                break\n",
    "        else:\n",
    "            doi = None\n",
    "    if doi == None:\n",
    "        pattern2 = \"\\d{2}[.-]\\d{2}[.-]\\d{4}\"\n",
    "        match = re.findall(pattern2, text)\n",
    "        match = list(set(match))\n",
    "        if match:\n",
    "            for m in match:\n",
    "                date_now = datetime.now()\n",
    "                try:\n",
    "                    date = parser.parse(m)\n",
    "                except:\n",
    "                    continue\n",
    "                difference = get_date_difference(date, date_now) \n",
    "                if date < date_now and difference < 25:\n",
    "                    doi = str(date)[:10]\n",
    "                    break\n",
    "        else:\n",
    "            doi = None\n",
    "\n",
    "                    \n",
    "    return doi"
   ]
  },
  {
   "cell_type": "markdown",
   "id": "4fe10003",
   "metadata": {},
   "source": [
    "### Combination of all the information extracted"
   ]
  },
  {
   "cell_type": "code",
   "execution_count": 20,
   "id": "2d4986f0",
   "metadata": {},
   "outputs": [],
   "source": [
    "#This method combines all above methods to extract the particular data from the text extracted from the document\n",
    "\n",
    "def combine_extracted_info(text):\n",
    "    info = {}\n",
    "    text_list = text.split('\\n')\n",
    "#     print(text_list)\n",
    "    text_list = [tex for tex in text_list if tex != '']\n",
    "    citizenship_no = extract_citizenship_no(text, text_list)\n",
    "    info['citizenship_no'] = citizenship_no\n",
    "    lic_no = extract_lic_no(text)\n",
    "    info['lisence_no'] = lic_no\n",
    "    ph_no = extract_ph_no(text)\n",
    "    info['phone_no'] = ph_no\n",
    "    bg = extract_bg(text, text_list)\n",
    "    info['blood_group'] = bg\n",
    "    first_name, middle_name, last_name = extract_name(text, text_list)\n",
    "    info['first_name'] = first_name\n",
    "    info['middle_name'] = middle_name\n",
    "    info['last_name'] = last_name\n",
    "    li_office = extract_lisence_office(text, text_list)\n",
    "    info['lisence_office'] = li_office\n",
    "    address = extract_address(text, text_list)\n",
    "    info['address'] = address\n",
    "    category = extract_category(text, text_list)\n",
    "    info['category'] = category\n",
    "    dob = extract_dob(text, text_list)\n",
    "    info['date_of_birth'] = dob\n",
    "    doi = extract_doi(text, text_list)\n",
    "    info['date_of_issue'] = doi\n",
    "    doe = extract_doe(text, text_list)\n",
    "    info['date_of_expiry'] = doe\n",
    "    return info"
   ]
  },
  {
   "cell_type": "markdown",
   "id": "d4074d77",
   "metadata": {},
   "source": [
    "## Main method to collect all the result"
   ]
  },
  {
   "cell_type": "code",
   "execution_count": 21,
   "id": "e8eeb01c",
   "metadata": {},
   "outputs": [],
   "source": [
    "# This is the main method which incorporate all above methods. \n",
    "#This take image of the document as input and outputs the extracted information in systematic way\n",
    "\n",
    "def main(image_path):\n",
    "    image = load_image(image_path)\n",
    "    image = combine_preprocessing(image)\n",
    "    text = extract_text(image)\n",
    "    info = combine_extracted_info(text)\n",
    "    return info\n"
   ]
  },
  {
   "cell_type": "code",
   "execution_count": 22,
   "id": "f919d5c8",
   "metadata": {},
   "outputs": [],
   "source": [
    "#Final Result\n",
    "result = main('taskA-sample-data/main-sample.jpg')"
   ]
  },
  {
   "cell_type": "markdown",
   "id": "b1e6018d",
   "metadata": {},
   "source": [
    "## Result"
   ]
  },
  {
   "cell_type": "markdown",
   "id": "fad5f072",
   "metadata": {},
   "source": [
    "### Exact Data"
   ]
  },
  {
   "cell_type": "code",
   "execution_count": 23,
   "id": "66610eab",
   "metadata": {},
   "outputs": [],
   "source": [
    "#Data Exactly present in the document \n",
    "\n",
    "exact_data = {\n",
    "'citizenship_no': '251059/6599',\n",
    " 'lisence_no': '03-06-00354234',\n",
    " 'phone_no': '9869061498',\n",
    " 'blood_group': 'AB+',\n",
    " 'first_name': 'KIRAN',\n",
    " 'middle_name': '',\n",
    " 'last_name': 'LAMA',\n",
    " 'lisence_office': 'Thulobharyang',\n",
    " 'address': 'Kakani - 08, Nuwakot, Bagmati,Nepal',\n",
    " 'category':'A',\n",
    " 'date_of_birth': '10-11-1993',\n",
    " 'date_of_issue': '31-12-2017',\n",
    " 'date_of_expiry': '30-12-2022'\n",
    "}\n"
   ]
  },
  {
   "cell_type": "markdown",
   "id": "0454f984",
   "metadata": {},
   "source": [
    "### Extracted Data"
   ]
  },
  {
   "cell_type": "code",
   "execution_count": 24,
   "id": "307fe2d5",
   "metadata": {},
   "outputs": [
    {
     "data": {
      "text/plain": [
       "{'citizenship_no': '251059/6599',\n",
       " 'lisence_no': '03-06-00354234',\n",
       " 'phone_no': '9869061498',\n",
       " 'blood_group': 'AB+',\n",
       " 'first_name': 'KIRAN',\n",
       " 'middle_name': '',\n",
       " 'last_name': 'LAMA',\n",
       " 'lisence_office': 'te Thulobharyang',\n",
       " 'address': 'Kakani 08, Nuwakot, Bagmati',\n",
       " 'category': None,\n",
       " 'date_of_birth': None,\n",
       " 'date_of_issue': '2017-12-31',\n",
       " 'date_of_expiry': '39.42-2022'}"
      ]
     },
     "execution_count": 24,
     "metadata": {},
     "output_type": "execute_result"
    }
   ],
   "source": [
    "#Data Extracted from the Document\n",
    "result"
   ]
  },
  {
   "cell_type": "markdown",
   "id": "da413812",
   "metadata": {},
   "source": [
    "## Evaluation"
   ]
  },
  {
   "cell_type": "markdown",
   "id": "d573c81f",
   "metadata": {},
   "source": [
    "### Compute Similarity between two text data"
   ]
  },
  {
   "cell_type": "code",
   "execution_count": 25,
   "id": "367a717e",
   "metadata": {},
   "outputs": [],
   "source": [
    "def compute_similarity(text1, text2):\n",
    "    nlp = spacy.load('en_core_web_sm')\n",
    "    if text1 == None or text2 == None:\n",
    "        similarity = 0.0\n",
    "    else:\n",
    "        doc1 = nlp(text1)\n",
    "        doc2 = nlp(text2)\n",
    "        similarity = doc1.similarity(doc2)\n",
    "    return similarity * 100\n",
    "    "
   ]
  },
  {
   "cell_type": "markdown",
   "id": "54db010a",
   "metadata": {},
   "source": [
    "### Evaluate Each data field and calculate their confidence"
   ]
  },
  {
   "cell_type": "code",
   "execution_count": 26,
   "id": "6354cbec",
   "metadata": {},
   "outputs": [],
   "source": [
    "def evaluate_result(exact_data, result):\n",
    "    eval_report = {}\n",
    "    data_fields = list(exact_data.keys())\n",
    "    for field in data_fields:\n",
    "        eval_report[field] = compute_similarity(exact_data[field], result[field])\n",
    "    return eval_report\n",
    "        "
   ]
  },
  {
   "cell_type": "markdown",
   "id": "50f6451c",
   "metadata": {},
   "source": [
    "### Evaluation Report"
   ]
  },
  {
   "cell_type": "code",
   "execution_count": 27,
   "id": "f74cdb2a",
   "metadata": {},
   "outputs": [
    {
     "name": "stderr",
     "output_type": "stream",
     "text": [
      "C:\\Users\\PREDATOR\\AppData\\Local\\Temp\\ipykernel_31668\\2662194243.py:8: UserWarning: [W007] The model you're using has no word vectors loaded, so the result of the Doc.similarity method will be based on the tagger, parser and NER, which may not give useful similarity judgements. This may happen if you're using one of the small models, e.g. `en_core_web_sm`, which don't ship with word vectors and only use context-sensitive tensors. You can always add your own word vectors, or use one of the larger models instead if available.\n",
      "  similarity = doc1.similarity(doc2)\n"
     ]
    },
    {
     "data": {
      "text/plain": [
       "{'citizenship_no': 100.0,\n",
       " 'lisence_no': 100.0,\n",
       " 'phone_no': 100.0,\n",
       " 'blood_group': 100.0,\n",
       " 'first_name': 100.0,\n",
       " 'middle_name': 100.0,\n",
       " 'last_name': 100.0,\n",
       " 'lisence_office': 74.9599814786962,\n",
       " 'address': 91.20217842351352,\n",
       " 'category': 0.0,\n",
       " 'date_of_birth': 0.0,\n",
       " 'date_of_issue': 97.64284563983327,\n",
       " 'date_of_expiry': 92.06335584414785}"
      ]
     },
     "execution_count": 27,
     "metadata": {},
     "output_type": "execute_result"
    }
   ],
   "source": [
    "evaluate_result(exact_data, result)"
   ]
  },
  {
   "cell_type": "code",
   "execution_count": null,
   "id": "548c1f37",
   "metadata": {},
   "outputs": [],
   "source": []
  },
  {
   "cell_type": "code",
   "execution_count": null,
   "id": "22f60758",
   "metadata": {},
   "outputs": [],
   "source": []
  },
  {
   "cell_type": "code",
   "execution_count": null,
   "id": "d1ef5e6a",
   "metadata": {},
   "outputs": [],
   "source": []
  },
  {
   "cell_type": "code",
   "execution_count": null,
   "id": "c68a6ca6",
   "metadata": {},
   "outputs": [],
   "source": []
  },
  {
   "cell_type": "code",
   "execution_count": null,
   "id": "f90f58a8",
   "metadata": {},
   "outputs": [],
   "source": []
  },
  {
   "cell_type": "code",
   "execution_count": null,
   "id": "757d1b47",
   "metadata": {},
   "outputs": [],
   "source": []
  },
  {
   "cell_type": "code",
   "execution_count": null,
   "id": "afac8ab1",
   "metadata": {},
   "outputs": [],
   "source": []
  },
  {
   "cell_type": "code",
   "execution_count": null,
   "id": "094fadb3",
   "metadata": {},
   "outputs": [],
   "source": []
  },
  {
   "cell_type": "code",
   "execution_count": null,
   "id": "049c97a9",
   "metadata": {},
   "outputs": [],
   "source": []
  },
  {
   "cell_type": "code",
   "execution_count": null,
   "id": "0ea7084a",
   "metadata": {},
   "outputs": [],
   "source": []
  }
 ],
 "metadata": {
  "kernelspec": {
   "display_name": "Python 3 (ipykernel)",
   "language": "python",
   "name": "python3"
  },
  "language_info": {
   "codemirror_mode": {
    "name": "ipython",
    "version": 3
   },
   "file_extension": ".py",
   "mimetype": "text/x-python",
   "name": "python",
   "nbconvert_exporter": "python",
   "pygments_lexer": "ipython3",
   "version": "3.9.12"
  }
 },
 "nbformat": 4,
 "nbformat_minor": 5
}
